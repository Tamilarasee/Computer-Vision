{
 "cells": [
  {
   "cell_type": "markdown",
   "metadata": {},
   "source": [
    "# CS 512 F24: Assignment 0 "
   ]
  },
  {
   "cell_type": "markdown",
   "metadata": {},
   "source": [
    "Due by 9/1/2024 (0%)\n",
    "\n",
    "**Name:** Tamilarasee Sethuraj\n",
    "\n",
    "**Student ID:** A20553416\n",
    "\n"
   ]
  },
  {
   "cell_type": "markdown",
   "metadata": {},
   "source": [
    "# Part A: Vector Operations\n",
    "\n",
    "Let:\n",
    "p=\n",
    "[\n",
    "2\n",
    "−1\n",
    "4 )\n",
    ",q=\n",
    "[\n",
    "0\n",
    "3\n",
    "5)\n",
    ",r=\n",
    "[\n",
    "1\n",
    "−2\n",
    "2 )"
   ]
  },
  {
   "cell_type": "code",
   "execution_count": 1,
   "metadata": {},
   "outputs": [],
   "source": [
    "import numpy as np\n",
    "p = np.array([2, -1, 4])\n",
    "q = np.array([0, 3, 5])\n",
    "r = np.array([1, -2, 2])"
   ]
  },
  {
   "cell_type": "markdown",
   "metadata": {},
   "source": [
    "1. 3p+2q\n"
   ]
  },
  {
   "cell_type": "code",
   "execution_count": 2,
   "metadata": {},
   "outputs": [
    {
     "name": "stdout",
     "output_type": "stream",
     "text": [
      "[ 6  3 22]\n"
     ]
    }
   ],
   "source": [
    "print (3 * p + 2 * q)"
   ]
  },
  {
   "cell_type": "markdown",
   "metadata": {},
   "source": [
    "2.  $\\hat{\\mathbf{p}}$ : a unit vector in the direction of p"
   ]
  },
  {
   "cell_type": "code",
   "execution_count": 3,
   "metadata": {},
   "outputs": [
    {
     "name": "stdout",
     "output_type": "stream",
     "text": [
      "[ 0.43643578 -0.21821789  0.87287156]\n"
     ]
    }
   ],
   "source": [
    "magnitude_p = np.linalg.norm(p)\n",
    "unit_vector_p = p / magnitude_p\n",
    "\n",
    "print(unit_vector_p)"
   ]
  },
  {
   "cell_type": "markdown",
   "metadata": {},
   "source": [
    "3.  ∥ p∥ and the angle of p relative to the positive y-axis"
   ]
  },
  {
   "cell_type": "code",
   "execution_count": 4,
   "metadata": {},
   "outputs": [
    {
     "name": "stdout",
     "output_type": "stream",
     "text": [
      "4.58257569495584\n",
      "102.60438264837919\n"
     ]
    }
   ],
   "source": [
    "e_y = np.array([0, 1, 0])\n",
    "\n",
    "dot_product = np.dot(p, e_y)\n",
    "magnitude_p = np.linalg.norm(p)\n",
    "magnitude_e_y = np.linalg.norm(e_y)\n",
    "cos_theta = dot_product / (magnitude_p * magnitude_e_y )\n",
    "angle = np.degrees(np.arccos(cos_theta))\n",
    "\n",
    "print(magnitude_p)\n",
    "print(angle)"
   ]
  },
  {
   "cell_type": "markdown",
   "metadata": {},
   "source": [
    "4. The direction cosines of p"
   ]
  },
  {
   "cell_type": "code",
   "execution_count": 6,
   "metadata": {},
   "outputs": [
    {
     "name": "stdout",
     "output_type": "stream",
     "text": [
      "[ 0.43643578 -0.21821789  0.87287156]\n"
     ]
    }
   ],
   "source": [
    "magnitude_p = np.linalg.norm(p)\n",
    "direction_cosines = p / magnitude_p\n",
    "print(direction_cosines)"
   ]
  },
  {
   "cell_type": "markdown",
   "metadata": {},
   "source": [
    "5. The angle between p and q"
   ]
  },
  {
   "cell_type": "code",
   "execution_count": 7,
   "metadata": {},
   "outputs": [
    {
     "name": "stdout",
     "output_type": "stream",
     "text": [
      "50.490287713806076\n"
     ]
    }
   ],
   "source": [
    "dot_product = np.dot(p, q)\n",
    "magnitude_p = np.linalg.norm(p)\n",
    "magnitude_q = np.linalg.norm(q)\n",
    "cos_theta = dot_product / (magnitude_p * magnitude_q )\n",
    "angle = np.degrees(np.arccos(cos_theta))\n",
    "\n",
    "\n",
    "print(angle)"
   ]
  },
  {
   "cell_type": "markdown",
   "metadata": {},
   "source": [
    "6. p⋅ q and q ⋅ p\n"
   ]
  },
  {
   "cell_type": "code",
   "execution_count": 8,
   "metadata": {},
   "outputs": [
    {
     "name": "stdout",
     "output_type": "stream",
     "text": [
      "17\n",
      "17\n"
     ]
    }
   ],
   "source": [
    "print(np.dot(p, q))\n",
    "print(np.dot(q, p))"
   ]
  },
  {
   "cell_type": "markdown",
   "metadata": {},
   "source": [
    "7. p ⋅ q using the angle between p and q"
   ]
  },
  {
   "cell_type": "code",
   "execution_count": 11,
   "metadata": {},
   "outputs": [
    {
     "name": "stdout",
     "output_type": "stream",
     "text": [
      "17.0\n"
     ]
    }
   ],
   "source": [
    "dot_product = magnitude_p * magnitude_q *  np.cos( np.deg2rad(angle))\n",
    "print(dot_product)"
   ]
  },
  {
   "cell_type": "markdown",
   "metadata": {},
   "source": [
    "8. The scalar projection of q onto  $\\hat{\\mathbf{p}}$ "
   ]
  },
  {
   "cell_type": "code",
   "execution_count": 13,
   "metadata": {},
   "outputs": [
    {
     "name": "stdout",
     "output_type": "stream",
     "text": [
      "3.709704134011871\n"
     ]
    }
   ],
   "source": [
    "magnitude_unit_p = np.linalg.norm(unit_vector_p)\n",
    "\n",
    "scalar_proj = np.dot(q,unit_vector_p) / magnitude_unit_p\n",
    "\n",
    "print(scalar_proj)"
   ]
  },
  {
   "cell_type": "markdown",
   "metadata": {},
   "source": [
    "9. A vector that is perpendicular to p\n",
    "\n",
    "Cross product of any two vectors is perpendicular to both the vector. Assume a vector,u that is not parallel to p and compute cross product"
   ]
  },
  {
   "cell_type": "code",
   "execution_count": 14,
   "metadata": {},
   "outputs": [
    {
     "name": "stdout",
     "output_type": "stream",
     "text": [
      "[-4  0  2]\n"
     ]
    }
   ],
   "source": [
    "u = np.array([0, 1, 0])\n",
    "perpendicular_vector = np.cross(p, u)\n",
    "print(perpendicular_vector)"
   ]
  },
  {
   "cell_type": "markdown",
   "metadata": {},
   "source": [
    "10. p×q and q× p"
   ]
  },
  {
   "cell_type": "code",
   "execution_count": 15,
   "metadata": {},
   "outputs": [
    {
     "name": "stdout",
     "output_type": "stream",
     "text": [
      "[-17 -10   6]\n",
      "[17 10 -6]\n"
     ]
    }
   ],
   "source": [
    "print(np.cross(p,q))\n",
    "print(np.cross(q,p))"
   ]
  },
  {
   "cell_type": "markdown",
   "metadata": {},
   "source": [
    "11. A vector that is perpendicular to both p and q"
   ]
  },
  {
   "cell_type": "code",
   "execution_count": 16,
   "metadata": {},
   "outputs": [
    {
     "name": "stdout",
     "output_type": "stream",
     "text": [
      "[-17 -10   6]\n"
     ]
    }
   ],
   "source": [
    "perpendicular_vector = np.cross(p,q)\n",
    "print(perpendicular_vector)"
   ]
  },
  {
   "cell_type": "markdown",
   "metadata": {},
   "source": [
    "12. The linear dependency between p, q, and r\n",
    "\n",
    "Construct a matrix M using p,q,r and find the determinant. If the determinant is zero, then p,q and r are linearly dependent"
   ]
  },
  {
   "cell_type": "code",
   "execution_count": 17,
   "metadata": {},
   "outputs": [
    {
     "name": "stdout",
     "output_type": "stream",
     "text": [
      "15.0\n"
     ]
    }
   ],
   "source": [
    "M = np.column_stack((p, q, r))\n",
    "determinant = np.linalg.det(M)\n",
    "print(determinant)"
   ]
  },
  {
   "cell_type": "markdown",
   "metadata": {},
   "source": [
    "As determinant(M) is non zero, vectors p,q and r are linearly independent"
   ]
  },
  {
   "cell_type": "markdown",
   "metadata": {},
   "source": [
    "13. $p^{T}q$ and $pq^{T}$"
   ]
  },
  {
   "cell_type": "code",
   "execution_count": 19,
   "metadata": {},
   "outputs": [
    {
     "name": "stdout",
     "output_type": "stream",
     "text": [
      "(p^T)q =  17\n",
      "p(q^T) =  [[ 0  6 10]\n",
      " [ 0 -3 -5]\n",
      " [ 0 12 20]]\n"
     ]
    }
   ],
   "source": [
    "dot_product = np.dot(p, q)\n",
    "outer_product = np.outer(p, q)\n",
    "print(\"(p^T)q = \", dot_product)\n",
    "print(\"p(q^T) = \",outer_product)"
   ]
  },
  {
   "cell_type": "markdown",
   "metadata": {},
   "source": [
    "# Part B: Matrix Operations\n",
    "\n"
   ]
  },
  {
   "cell_type": "code",
   "execution_count": 49,
   "metadata": {},
   "outputs": [],
   "source": [
    "X = np.array([[2, 1, 0],\n",
    "              [-1, 3, 4],\n",
    "              [3, 2, -2]])\n",
    "\n",
    "Y = np.array([[4, -1, 2],\n",
    "              [3, 0, -3],\n",
    "              [1, 2, 1]])\n",
    "Z = np.array([[2, 0, -1],\n",
    "              [1, 4, 5],\n",
    "              [3, 1, 2]])\n",
    "\n",
    "s = np.array([\n",
    "    -1,\n",
    "    4,\n",
    "    0\n",
    "])"
   ]
  },
  {
   "cell_type": "markdown",
   "metadata": {},
   "source": [
    "1. X+2Y"
   ]
  },
  {
   "cell_type": "code",
   "execution_count": 21,
   "metadata": {},
   "outputs": [
    {
     "name": "stdout",
     "output_type": "stream",
     "text": [
      "[[10 -1  4]\n",
      " [ 5  3 -2]\n",
      " [ 5  6  0]]\n"
     ]
    }
   ],
   "source": [
    "print (X + 2*Y)"
   ]
  },
  {
   "cell_type": "markdown",
   "metadata": {},
   "source": [
    "2. X Y and Y X\n",
    "\n"
   ]
  },
  {
   "cell_type": "code",
   "execution_count": 23,
   "metadata": {},
   "outputs": [
    {
     "name": "stdout",
     "output_type": "stream",
     "text": [
      "[[11 -2  1]\n",
      " [ 9  9 -7]\n",
      " [16 -7 -2]]\n",
      "[[15  5 -8]\n",
      " [-3 -3  6]\n",
      " [ 3  9  6]]\n"
     ]
    }
   ],
   "source": [
    "print(np.dot(X,Y))\n",
    "print(np.dot(Y,X))"
   ]
  },
  {
   "cell_type": "markdown",
   "metadata": {},
   "source": [
    "3. $(XY)^{T}$ and $Y^{T}X^{T}$"
   ]
  },
  {
   "cell_type": "code",
   "execution_count": 24,
   "metadata": {},
   "outputs": [
    {
     "name": "stdout",
     "output_type": "stream",
     "text": [
      "[[11  9 16]\n",
      " [-2  9 -7]\n",
      " [ 1 -7 -2]]\n",
      "[[11  9 16]\n",
      " [-2  9 -7]\n",
      " [ 1 -7 -2]]\n"
     ]
    }
   ],
   "source": [
    "XY = np.dot(X,Y)\n",
    "XY_T = np.transpose(XY)\n",
    "print(XY_T)\n",
    "Y_T_X_T = np.dot(np.transpose(Y),np.transpose(X))\n",
    "print(Y_T_X_T)"
   ]
  },
  {
   "cell_type": "markdown",
   "metadata": {},
   "source": [
    "4. |X ) and |Z) (see question A-12 -->The linear dependency between p, q, and r)\n",
    "\n",
    "To find linear dependency of the row/column vectors of X, Z, find their determinants.\n",
    "If the determinant is zero, then the row/column vectors of that respective matrix are linearly dependent"
   ]
  },
  {
   "cell_type": "code",
   "execution_count": 26,
   "metadata": {},
   "outputs": [
    {
     "name": "stdout",
     "output_type": "stream",
     "text": [
      "-17.999999999999996 17.0\n"
     ]
    }
   ],
   "source": [
    "X_det = np.linalg.det(X)\n",
    "Z_det = np.linalg.det(Z)\n",
    "print(X_det,Z_det)"
   ]
  },
  {
   "cell_type": "markdown",
   "metadata": {},
   "source": [
    "Determinants of X and Z ae non zero and hence they are linearly independent"
   ]
  },
  {
   "cell_type": "markdown",
   "metadata": {},
   "source": [
    "5. The matrix (either X, Y , or Z) in which the row vectors form an orthogonal set"
   ]
  },
  {
   "cell_type": "code",
   "execution_count": 28,
   "metadata": {},
   "outputs": [
    {
     "name": "stdout",
     "output_type": "stream",
     "text": [
      "[[ 5  1  8]\n",
      " [ 1 26 -5]\n",
      " [ 8 -5 17]]\n",
      "[[21  6  4]\n",
      " [ 6 18  0]\n",
      " [ 4  0  6]]\n",
      "[[ 5 -3  4]\n",
      " [-3 42 17]\n",
      " [ 4 17 14]]\n"
     ]
    }
   ],
   "source": [
    "X_X_T = np.dot(X,np.transpose(X))\n",
    "Y_Y_T = np.dot(Y,np.transpose(Y))\n",
    "Z_Z_T = np.dot(Z,np.transpose(Z))\n",
    "\n",
    "print(X_X_T)\n",
    "print(Y_Y_T)\n",
    "print(Z_Z_T)"
   ]
  },
  {
   "cell_type": "markdown",
   "metadata": {},
   "source": [
    "If the dot product of a matrix and its transpose is equal to the identity matrix, then it is orthogonal.\n",
    "None of the matrices X,Y and Z are orthogonal and they do not have row vectors forming orthogonal set."
   ]
  },
  {
   "cell_type": "markdown",
   "metadata": {},
   "source": [
    "6. $X^{-1}$  and $Y^{-1}$ (see question B-5 -->Find matrix in which the row vectors form an orthogonal set)\n"
   ]
  },
  {
   "cell_type": "code",
   "execution_count": 46,
   "metadata": {},
   "outputs": [
    {
     "name": "stdout",
     "output_type": "stream",
     "text": [
      "[[ 0.66666667 -0.55555556  0.55555556]\n",
      " [-0.55555556  0.55555556 -0.5       ]\n",
      " [ 0.55555556 -0.5         0.52777778]]\n",
      "[[3.96825397e-02 1.58730159e-02 4.17749735e-18]\n",
      " [1.58730159e-02 2.06349206e-01 4.24830239e-18]\n",
      " [4.17749735e-18 4.24830239e-18 7.14285714e-02]]\n"
     ]
    }
   ],
   "source": [
    "X_1 = np.linalg.inv(X)\n",
    "Y_1  = np.linalg.inv(Y)\n",
    "\n",
    "product_X = np.dot(X_1,np.transpose(X_1))\n",
    "product_Y = np.dot(Y_1,np.transpose(Y_1))\n",
    "\n",
    "print(product_X)\n",
    "print(product_Y)"
   ]
  },
  {
   "cell_type": "markdown",
   "metadata": {},
   "source": [
    "Since the dot product $X^{-1}X^{-T}$  and $Y^{-1}Y^{-T}$ are not identity matrices, they are not orthogonal and do not have row vectors forming orthogonal set"
   ]
  },
  {
   "cell_type": "markdown",
   "metadata": {},
   "source": [
    "7. $Z^{-1}$ (see question B-4 ---> linear dependency)"
   ]
  },
  {
   "cell_type": "code",
   "execution_count": 48,
   "metadata": {},
   "outputs": [
    {
     "name": "stdout",
     "output_type": "stream",
     "text": [
      "[[  3.  -1.   4.]\n",
      " [ 13.   7. -11.]\n",
      " [-11.  -2.   8.]]\n",
      "0.0588235294117647\n"
     ]
    }
   ],
   "source": [
    "Z_1 = np.linalg.inv(Z)\n",
    "print(Z_1*17)\n",
    "Z_1_det = np.linalg.det(Z_1)\n",
    "print(Z_1_det)"
   ]
  },
  {
   "cell_type": "markdown",
   "metadata": {},
   "source": [
    "Determinant of $Z^{-1}$ is non zero and hence it is linearly independent"
   ]
  },
  {
   "cell_type": "markdown",
   "metadata": {},
   "source": [
    "8. The product Xs"
   ]
  },
  {
   "cell_type": "code",
   "execution_count": 50,
   "metadata": {},
   "outputs": [
    {
     "name": "stdout",
     "output_type": "stream",
     "text": [
      "[ 2 13  5]\n"
     ]
    }
   ],
   "source": [
    "print(np.dot(X,s))"
   ]
  },
  {
   "cell_type": "markdown",
   "metadata": {},
   "source": [
    "9. The scalar projection of the rows of X onto the vector s (with s normalized)"
   ]
  },
  {
   "cell_type": "code",
   "execution_count": 52,
   "metadata": {},
   "outputs": [
    {
     "name": "stdout",
     "output_type": "stream",
     "text": [
      "[0.48507125 3.15296313 1.21267813]\n"
     ]
    }
   ],
   "source": [
    "\n",
    "magnitude_s = np.linalg.norm(s)\n",
    "s_normalized = s / magnitude_s\n",
    "scalar_projections = np.dot(X, s_normalized)\n",
    "print(scalar_projections)"
   ]
  },
  {
   "cell_type": "markdown",
   "metadata": {},
   "source": [
    "10. The vector projection of the rows of X onto the vector s (with s normalized)\n",
    "\n",
    "Scalar projection an be used to calculate vector projection"
   ]
  },
  {
   "cell_type": "code",
   "execution_count": 53,
   "metadata": {},
   "outputs": [
    {
     "name": "stdout",
     "output_type": "stream",
     "text": [
      "[[-0.11764706  0.47058824  0.        ]\n",
      " [-0.76470588  3.05882353  0.        ]\n",
      " [-0.29411765  1.17647059  0.        ]]\n"
     ]
    }
   ],
   "source": [
    "vector_projections = scalar_projections[:, np.newaxis] * s_normalized\n",
    "print(vector_projections)"
   ]
  },
  {
   "cell_type": "markdown",
   "metadata": {},
   "source": [
    "11. The linear combination of the columns of X using the elements of s\n",
    "\n",
    "This is same as the dot product of X and s"
   ]
  },
  {
   "cell_type": "code",
   "execution_count": 54,
   "metadata": {},
   "outputs": [
    {
     "name": "stdout",
     "output_type": "stream",
     "text": [
      "[ 2 13  5]\n"
     ]
    }
   ],
   "source": [
    "print(np.dot(X, s))\n"
   ]
  },
  {
   "cell_type": "markdown",
   "metadata": {},
   "source": [
    "12. The solution t for the equation Y t=s"
   ]
  },
  {
   "cell_type": "code",
   "execution_count": 56,
   "metadata": {},
   "outputs": [
    {
     "name": "stdout",
     "output_type": "stream",
     "text": [
      "[ 0.33333333  0.33333333 -1.        ]\n"
     ]
    }
   ],
   "source": [
    "t = np.linalg.solve(Y, s)\n",
    "print(t)"
   ]
  },
  {
   "cell_type": "markdown",
   "metadata": {},
   "source": [
    "13. The solution t for the equation Z t=s and the reason for it (see question B-7)"
   ]
  },
  {
   "cell_type": "code",
   "execution_count": 57,
   "metadata": {},
   "outputs": [
    {
     "name": "stdout",
     "output_type": "stream",
     "text": [
      "[-0.41176471  0.88235294  0.17647059]\n"
     ]
    }
   ],
   "source": [
    "t = np.linalg.solve(Z, s)\n",
    "print(t)"
   ]
  },
  {
   "cell_type": "markdown",
   "metadata": {},
   "source": [
    "# Part C: Eigenvalues and Eigenvectors\n"
   ]
  },
  {
   "cell_type": "code",
   "execution_count": 58,
   "metadata": {},
   "outputs": [],
   "source": [
    "M = np.array([\n",
    "    [3, 2],\n",
    "    [-1, 4]\n",
    "])\n",
    "\n",
    "N = np.array([\n",
    "    [5, -3],\n",
    "    [-3, 6]\n",
    "])\n",
    "\n",
    "P = np.array([\n",
    "    [2, 4],\n",
    "    [4, 8]\n",
    "])"
   ]
  },
  {
   "cell_type": "markdown",
   "metadata": {},
   "source": [
    "1. The eigenvalues and corresponding eigenvectors of M"
   ]
  },
  {
   "cell_type": "code",
   "execution_count": 59,
   "metadata": {},
   "outputs": [
    {
     "name": "stdout",
     "output_type": "stream",
     "text": [
      "[3.5+1.32287566j 3.5-1.32287566j]\n",
      "[[0.81649658+0.j         0.81649658-0.j        ]\n",
      " [0.20412415+0.54006172j 0.20412415-0.54006172j]]\n"
     ]
    }
   ],
   "source": [
    "M_values, M_vectors = np.linalg.eig(M)\n",
    "print(M_values)\n",
    "print(M_vectors)"
   ]
  },
  {
   "cell_type": "markdown",
   "metadata": {},
   "source": [
    "2. The dot product between the eigenvectors of M"
   ]
  },
  {
   "cell_type": "code",
   "execution_count": 60,
   "metadata": {},
   "outputs": [
    {
     "name": "stdout",
     "output_type": "stream",
     "text": [
      "(1.0000000000000002+0j)\n"
     ]
    }
   ],
   "source": [
    "M_eigenvector1 = M_vectors[:, 0]\n",
    "M_eigenvector2 = M_vectors[:, 1]\n",
    "\n",
    "print(np.dot(eigenvector1, eigenvector2))"
   ]
  },
  {
   "cell_type": "markdown",
   "metadata": {},
   "source": [
    "3. The dot product between the eigenvectors of N"
   ]
  },
  {
   "cell_type": "code",
   "execution_count": 62,
   "metadata": {},
   "outputs": [
    {
     "name": "stdout",
     "output_type": "stream",
     "text": [
      "[2.45861873 8.54138127]\n",
      "[[-0.76301998  0.6463749 ]\n",
      " [-0.6463749  -0.76301998]]\n",
      "0.0\n"
     ]
    }
   ],
   "source": [
    "N_values, N_vectors = np.linalg.eig(N)\n",
    "print(N_values)\n",
    "print(N_vectors)\n",
    "\n",
    "N_eigenvector1 = N_vectors[:, 0]\n",
    "N_eigenvector2 = N_vectors[:, 1]\n",
    "\n",
    "print(np.dot(N_eigenvector1, N_eigenvector2))"
   ]
  },
  {
   "cell_type": "markdown",
   "metadata": {},
   "source": [
    "4. The property of the eigenvectors of N and the reason for it \n",
    "\n",
    "\n",
    "From C-3, we see that the dot product of eigen vectors is zero. The eigen vectors are orthogonal to each other. This is because the matrix N is symmetric. N = $N^{T}$"
   ]
  },
  {
   "cell_type": "markdown",
   "metadata": {},
   "source": [
    "5. The value of a trivial solution t to the equation Pt=0"
   ]
  },
  {
   "cell_type": "code",
   "execution_count": 63,
   "metadata": {},
   "outputs": [
    {
     "name": "stdout",
     "output_type": "stream",
     "text": [
      "[0 0]\n"
     ]
    }
   ],
   "source": [
    "trivial_solution = np.array([0, 0])\n",
    "\n",
    "verification = np.dot(P, trivial_solution)\n",
    "\n",
    "print(verification)\n"
   ]
  },
  {
   "cell_type": "markdown",
   "metadata": {},
   "source": [
    "Dot product of P and t = 0 shows that the trivaial solution for t = [0, 0]"
   ]
  },
  {
   "cell_type": "markdown",
   "metadata": {},
   "source": [
    "6. The value of two non-trivial solutions t to the equation Pt=0"
   ]
  },
  {
   "cell_type": "code",
   "execution_count": 66,
   "metadata": {},
   "outputs": [
    {
     "name": "stdout",
     "output_type": "stream",
     "text": [
      "[[-0.89442719]\n",
      " [ 0.4472136 ]]\n"
     ]
    }
   ],
   "source": [
    "from scipy.linalg import null_space\n",
    "null_space_P = null_space(P)\n",
    "print(null_space_P)"
   ]
  },
  {
   "cell_type": "markdown",
   "metadata": {},
   "source": [
    "7. The only solution t to the equation M t=0 and the reason for having a single solution"
   ]
  },
  {
   "cell_type": "code",
   "execution_count": 69,
   "metadata": {},
   "outputs": [
    {
     "name": "stdout",
     "output_type": "stream",
     "text": [
      "14.000000000000004\n",
      "[[ 0.28571429 -0.14285714]\n",
      " [ 0.07142857  0.21428571]]\n"
     ]
    }
   ],
   "source": [
    "det_M = np.linalg.det(M)\n",
    "print(det_M)\n",
    "if det_M!=0:\n",
    "    M_1 = np.linalg.inv(M)\n",
    "    print(M_1)\n"
   ]
  },
  {
   "cell_type": "markdown",
   "metadata": {},
   "source": [
    "Det(M) is non zero and $M^{-1}$ exists. This implies that from Mt = 0, the solution for t is trivial. t = [0, 0]"
   ]
  },
  {
   "cell_type": "markdown",
   "metadata": {},
   "source": [
    "# Part D: Neural Networks Basics"
   ]
  },
  {
   "cell_type": "markdown",
   "metadata": {},
   "source": [
    "1. Given a neuron with input values x1=0.5, x2=−0.8, and x3=0.3, weights w1=0.4,\n",
    "w2=−0.6, and w3=0.9, and a bias b=0.2, compute the output of the neuron before \n",
    "applying any activation function.\n"
   ]
  },
  {
   "cell_type": "code",
   "execution_count": 70,
   "metadata": {},
   "outputs": [
    {
     "name": "stdout",
     "output_type": "stream",
     "text": [
      "1.15\n"
     ]
    }
   ],
   "source": [
    "x1 = 0.5\n",
    "x2 = -0.8\n",
    "x3 = 0.3\n",
    "w1 = 0.4\n",
    "w2 = -0.6\n",
    "w3 = 0.9\n",
    "b = 0.2\n",
    "\n",
    "\n",
    "z = w1 * x1 + w2 * x2 + w3 * x3 + b\n",
    "\n",
    "print(z)\n"
   ]
  },
  {
   "cell_type": "markdown",
   "metadata": {},
   "source": [
    "2. Using the output computed in the previous question, apply the sigmoid activation \n",
    "function to find the activation value."
   ]
  },
  {
   "cell_type": "code",
   "execution_count": 71,
   "metadata": {},
   "outputs": [
    {
     "name": "stdout",
     "output_type": "stream",
     "text": [
      "0.759510916949111\n"
     ]
    }
   ],
   "source": [
    "output = 1 / (1 + np.exp(-z))\n",
    "print(output)"
   ]
  },
  {
   "cell_type": "markdown",
   "metadata": {},
   "source": [
    "3. Given the same input values and weights as in question 1, compute the output of the \n",
    "neuron after applying a ReLU activation function"
   ]
  },
  {
   "cell_type": "code",
   "execution_count": 72,
   "metadata": {},
   "outputs": [
    {
     "name": "stdout",
     "output_type": "stream",
     "text": [
      "1.15\n"
     ]
    }
   ],
   "source": [
    "relu_activation = max(0, z)\n",
    "print(relu_activation)"
   ]
  },
  {
   "cell_type": "markdown",
   "metadata": {},
   "source": [
    "4. Given a neural network layer with weights W h, bias bh, and input x. Compute the output of the layer using ReLU activation"
   ]
  },
  {
   "cell_type": "code",
   "execution_count": 74,
   "metadata": {},
   "outputs": [
    {
     "name": "stdout",
     "output_type": "stream",
     "text": [
      "[1.1 1.5]\n"
     ]
    }
   ],
   "source": [
    "W_h = np.array([\n",
    "    [0.4, 0.3],\n",
    "    [0.2, 0.7]\n",
    "])\n",
    "\n",
    "b_h = np.array([\n",
    "    0.1,\n",
    "    -0.1\n",
    "])\n",
    "\n",
    "x = np.array([\n",
    "    1,\n",
    "    2\n",
    "])\n",
    "\n",
    "y = np.dot(W_h, x) + b_h\n",
    "y_relu = np.maximum(0, y)\n",
    "print(y_relu)\n"
   ]
  },
  {
   "cell_type": "markdown",
   "metadata": {},
   "source": [
    "5. Feed the output of the layer from the previous question into an output layer with \n",
    "weights W o, bias bo, as follows:\n",
    "W o=[ 0.5 −0.3) ,bo=[ 0.1)\n",
    "compute the output of the layer using sigmoid activation.\n"
   ]
  },
  {
   "cell_type": "code",
   "execution_count": 75,
   "metadata": {},
   "outputs": [
    {
     "name": "stdout",
     "output_type": "stream",
     "text": [
      "[0.549834]\n"
     ]
    }
   ],
   "source": [
    "W_o = np.array([0.5, -0.3])\n",
    "b_o = np.array([0.1])\n",
    "y_output = np.dot(W_o, y_relu) + b_o\n",
    "\n",
    "output= 1 / (1 + np.exp(-y_output))\n",
    "\n",
    "print(output)\n"
   ]
  }
 ],
 "metadata": {
  "kernelspec": {
   "display_name": "Python 3",
   "language": "python",
   "name": "python3"
  },
  "language_info": {
   "codemirror_mode": {
    "name": "ipython",
    "version": 3
   },
   "file_extension": ".py",
   "mimetype": "text/x-python",
   "name": "python",
   "nbconvert_exporter": "python",
   "pygments_lexer": "ipython3",
   "version": "3.11.9"
  }
 },
 "nbformat": 4,
 "nbformat_minor": 2
}
